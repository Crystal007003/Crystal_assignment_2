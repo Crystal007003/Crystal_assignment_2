{
 "cells": [
  {
   "cell_type": "code",
   "execution_count": 1,
   "id": "5510e257-2982-4aff-b649-71457b54606b",
   "metadata": {},
   "outputs": [],
   "source": [
    "Fruits = 'pawpaw'"
   ]
  },
  {
   "cell_type": "code",
   "execution_count": 2,
   "id": "13ca50b7-db49-496a-b81a-09ab99c01102",
   "metadata": {},
   "outputs": [
    {
     "name": "stdout",
     "output_type": "stream",
     "text": [
      "green\n"
     ]
    }
   ],
   "source": [
    "colours = 'green'\n",
    "print (colours)"
   ]
  },
  {
   "cell_type": "code",
   "execution_count": 28,
   "id": "5823fef2-0bb1-41f6-89fd-f01dd41832e4",
   "metadata": {},
   "outputs": [
    {
     "data": {
      "text/plain": [
       "bool"
      ]
     },
     "execution_count": 28,
     "metadata": {},
     "output_type": "execute_result"
    }
   ],
   "source": [
    "Lady = False\n",
    "type(False)"
   ]
  },
  {
   "cell_type": "code",
   "execution_count": 19,
   "id": "5c403a14",
   "metadata": {},
   "outputs": [],
   "source": [
    "number = 7"
   ]
  },
  {
   "cell_type": "code",
   "execution_count": 4,
   "id": "0715a4f1-adb5-4c7e-b9dd-9391d0710ba0",
   "metadata": {},
   "outputs": [
    {
     "data": {
      "text/plain": [
       "float"
      ]
     },
     "execution_count": 4,
     "metadata": {},
     "output_type": "execute_result"
    }
   ],
   "source": [
    "decimal = 0.8\n",
    "type(decimal)"
   ]
  },
  {
   "cell_type": "code",
   "execution_count": 5,
   "id": "6f22fa7c-9ab4-4434-ad8c-1f3713c4cd34",
   "metadata": {},
   "outputs": [
    {
     "data": {
      "text/plain": [
       "'a'"
      ]
     },
     "execution_count": 5,
     "metadata": {},
     "output_type": "execute_result"
    }
   ],
   "source": [
    "# To print the second letter of the string variable\n",
    "Fruits [1]"
   ]
  },
  {
   "cell_type": "code",
   "execution_count": 6,
   "id": "cde8885c-8c0b-4ccb-a485-aefb55f1c887",
   "metadata": {},
   "outputs": [
    {
     "data": {
      "text/plain": [
       "'n'"
      ]
     },
     "execution_count": 6,
     "metadata": {},
     "output_type": "execute_result"
    }
   ],
   "source": [
    "colours[4]"
   ]
  },
  {
   "cell_type": "code",
   "execution_count": 7,
   "id": "ba4e5bdd-91e1-4c02-a7c5-115485ccd3d4",
   "metadata": {},
   "outputs": [],
   "source": [
    "# to create an empty list\n",
    "ade = []"
   ]
  },
  {
   "cell_type": "code",
   "execution_count": 8,
   "id": "6b6ed6c1",
   "metadata": {},
   "outputs": [
    {
     "data": {
      "text/plain": [
       "[]"
      ]
     },
     "execution_count": 8,
     "metadata": {},
     "output_type": "execute_result"
    }
   ],
   "source": [
    "ade"
   ]
  },
  {
   "cell_type": "code",
   "execution_count": 9,
   "id": "45524c74",
   "metadata": {},
   "outputs": [],
   "source": [
    "# to append a new text/character/list\n",
    "ade.append (Fruits)"
   ]
  },
  {
   "cell_type": "code",
   "execution_count": 11,
   "id": "ac6f1cde",
   "metadata": {},
   "outputs": [
    {
     "name": "stdout",
     "output_type": "stream",
     "text": [
      "['pawpaw']\n"
     ]
    }
   ],
   "source": [
    "print (ade)"
   ]
  },
  {
   "cell_type": "code",
   "execution_count": 13,
   "id": "1b0df1ce",
   "metadata": {},
   "outputs": [
    {
     "name": "stdout",
     "output_type": "stream",
     "text": [
      "Ade is a pawpaw\n"
     ]
    }
   ],
   "source": [
    "print ('Ade is a pawpaw')"
   ]
  },
  {
   "cell_type": "code",
   "execution_count": 20,
   "id": "53b1519a",
   "metadata": {},
   "outputs": [],
   "source": [
    "# addition of two variables, and assigning it to a new variable\n",
    "New = number + decimal"
   ]
  },
  {
   "cell_type": "code",
   "execution_count": 21,
   "id": "5d10d3b6",
   "metadata": {},
   "outputs": [
    {
     "name": "stdout",
     "output_type": "stream",
     "text": [
      "7.8\n"
     ]
    }
   ],
   "source": [
    "print (New)"
   ]
  },
  {
   "cell_type": "code",
   "execution_count": 22,
   "id": "f605e8d9",
   "metadata": {},
   "outputs": [],
   "source": [
    "# to append the output to the string list\n",
    "ade.append(New)"
   ]
  },
  {
   "cell_type": "code",
   "execution_count": 23,
   "id": "f317390f",
   "metadata": {},
   "outputs": [
    {
     "data": {
      "text/plain": [
       "['pawpaw', 7.8]"
      ]
     },
     "execution_count": 23,
     "metadata": {},
     "output_type": "execute_result"
    }
   ],
   "source": [
    "ade"
   ]
  },
  {
   "cell_type": "code",
   "execution_count": 29,
   "id": "f9c76fe8",
   "metadata": {},
   "outputs": [
    {
     "data": {
      "text/plain": [
       "0"
      ]
     },
     "execution_count": 29,
     "metadata": {},
     "output_type": "execute_result"
    }
   ],
   "source": [
    "# To change the data type of a variable\n",
    "int(Lady)"
   ]
  },
  {
   "cell_type": "code",
   "execution_count": 30,
   "id": "7bc60450",
   "metadata": {},
   "outputs": [],
   "source": [
    "# append bool to the list\n",
    "ade.append(Lady)"
   ]
  },
  {
   "cell_type": "code",
   "execution_count": 31,
   "id": "182f04c2",
   "metadata": {},
   "outputs": [
    {
     "data": {
      "text/plain": [
       "['pawpaw', 7.8, False]"
      ]
     },
     "execution_count": 31,
     "metadata": {},
     "output_type": "execute_result"
    }
   ],
   "source": [
    "ade"
   ]
  },
  {
   "cell_type": "code",
   "execution_count": 32,
   "id": "bd605806",
   "metadata": {},
   "outputs": [
    {
     "data": {
      "text/plain": [
       "3"
      ]
     },
     "execution_count": 32,
     "metadata": {},
     "output_type": "execute_result"
    }
   ],
   "source": [
    "# to check the length of the list\n",
    "len(ade)"
   ]
  },
  {
   "cell_type": "code",
   "execution_count": 44,
   "id": "3c4a72cb",
   "metadata": {},
   "outputs": [],
   "source": [
    "west = ['osun','ogun','ekiti','ondo','sokoto']\n",
    "north = ['kano','yola','jalingo','maiduguri']\n",
    "East = ['enugu', 'abia','delta','rivers']"
   ]
  },
  {
   "cell_type": "code",
   "execution_count": 45,
   "id": "42fad707",
   "metadata": {},
   "outputs": [],
   "source": [
    "# to change a list in a variable\n",
    "west[4] = 'lagos'"
   ]
  },
  {
   "cell_type": "code",
   "execution_count": 46,
   "id": "1967f9be",
   "metadata": {},
   "outputs": [
    {
     "data": {
      "text/plain": [
       "['osun', 'ogun', 'ekiti', 'ondo', 'lagos']"
      ]
     },
     "execution_count": 46,
     "metadata": {},
     "output_type": "execute_result"
    }
   ],
   "source": [
    "west"
   ]
  },
  {
   "cell_type": "code",
   "execution_count": 39,
   "id": "7f9db4d3",
   "metadata": {},
   "outputs": [],
   "source": [
    "# to remove a list from a variable\n",
    "west.remove('sokoto')"
   ]
  },
  {
   "cell_type": "code",
   "execution_count": 64,
   "id": "317a0cd6",
   "metadata": {},
   "outputs": [
    {
     "data": {
      "text/plain": [
       "['osun', 'ogun', 'ekiti', 'ondo', 'lagos']"
      ]
     },
     "execution_count": 64,
     "metadata": {},
     "output_type": "execute_result"
    }
   ],
   "source": [
    "west"
   ]
  },
  {
   "cell_type": "code",
   "execution_count": 65,
   "id": "9f1f9496",
   "metadata": {},
   "outputs": [
    {
     "data": {
      "text/plain": [
       "('osun', 'ogun', 'ekiti', 'ondo', 'lagos')"
      ]
     },
     "execution_count": 65,
     "metadata": {},
     "output_type": "execute_result"
    }
   ],
   "source": [
    "# to covert the lists to a tuple\n",
    "tuple(west)"
   ]
  },
  {
   "cell_type": "code",
   "execution_count": 66,
   "id": "188ea0f1",
   "metadata": {},
   "outputs": [
    {
     "data": {
      "text/plain": [
       "('kano', 'yola', 'jalingo', 'maiduguri')"
      ]
     },
     "execution_count": 66,
     "metadata": {},
     "output_type": "execute_result"
    }
   ],
   "source": [
    "tuple(north)"
   ]
  },
  {
   "cell_type": "code",
   "execution_count": 67,
   "id": "91d79e2c",
   "metadata": {},
   "outputs": [
    {
     "data": {
      "text/plain": [
       "('enugu', 'abia', 'delta', 'rivers')"
      ]
     },
     "execution_count": 67,
     "metadata": {},
     "output_type": "execute_result"
    }
   ],
   "source": [
    "tuple(East)"
   ]
  },
  {
   "cell_type": "code",
   "execution_count": null,
   "id": "ed3c288f",
   "metadata": {},
   "outputs": [],
   "source": []
  },
  {
   "cell_type": "markdown",
   "id": "0027380e",
   "metadata": {},
   "source": [
    "## ASSIGNMENT ##\n",
    "#### - Create a dictionary called 'Nigeria' and append the lists(west,east,north) to it ####\n",
    "#### - Reserve words or key words in python ####"
   ]
  },
  {
   "cell_type": "code",
   "execution_count": 68,
   "id": "92af9560",
   "metadata": {},
   "outputs": [],
   "source": [
    "Nigeria = {}"
   ]
  },
  {
   "cell_type": "code",
   "execution_count": 69,
   "id": "dbcff881",
   "metadata": {},
   "outputs": [],
   "source": [
    "Nigeria ['west']= west\n",
    "Nigeria ['north'] = north\n",
    "Nigeria ['East'] = Easts"
   ]
  },
  {
   "cell_type": "code",
   "execution_count": 70,
   "id": "d79b2e5c",
   "metadata": {},
   "outputs": [
    {
     "name": "stdout",
     "output_type": "stream",
     "text": [
      "{'west': ['osun', 'ogun', 'ekiti', 'ondo', 'lagos'], 'north': ['kano', 'yola', 'jalingo', 'maiduguri'], 'East': ['enugu', 'abia', 'delta', 'rivers']}\n"
     ]
    }
   ],
   "source": [
    "print (Nigeria)"
   ]
  },
  {
   "cell_type": "code",
   "execution_count": 54,
   "id": "0a880368",
   "metadata": {},
   "outputs": [],
   "source": [
    "Nigeria.append(East)"
   ]
  },
  {
   "cell_type": "code",
   "execution_count": 55,
   "id": "e54b5edb",
   "metadata": {},
   "outputs": [],
   "source": [
    "Nigeria.append(north)"
   ]
  },
  {
   "cell_type": "code",
   "execution_count": 56,
   "id": "26de6186",
   "metadata": {},
   "outputs": [
    {
     "data": {
      "text/plain": [
       "[['osun', 'ogun', 'ekiti', 'ondo', 'lagos'],\n",
       " ['enugu', 'abia', 'delta', 'rivers'],\n",
       " ['kano', 'yola', 'jalingo', 'maiduguri']]"
      ]
     },
     "execution_count": 56,
     "metadata": {},
     "output_type": "execute_result"
    }
   ],
   "source": [
    "Nigeria"
   ]
  },
  {
   "cell_type": "code",
   "execution_count": 57,
   "id": "b6452db8",
   "metadata": {},
   "outputs": [
    {
     "name": "stdout",
     "output_type": "stream",
     "text": [
      "[['osun', 'ogun', 'ekiti', 'ondo', 'lagos'], ['enugu', 'abia', 'delta', 'rivers'], ['kano', 'yola', 'jalingo', 'maiduguri']]\n"
     ]
    }
   ],
   "source": [
    "print (Nigeria)"
   ]
  },
  {
   "cell_type": "markdown",
   "id": "462bc435",
   "metadata": {},
   "source": []
  },
  {
   "cell_type": "code",
   "execution_count": null,
   "id": "04ae5e0c-a906-4efd-8451-bee6c8bfecc4",
   "metadata": {},
   "outputs": [],
   "source": []
  }
 ],
 "metadata": {
  "kernelspec": {
   "display_name": "Python 3 (ipykernel)",
   "language": "python",
   "name": "python3"
  },
  "language_info": {
   "codemirror_mode": {
    "name": "ipython",
    "version": 3
   },
   "file_extension": ".py",
   "mimetype": "text/x-python",
   "name": "python",
   "nbconvert_exporter": "python",
   "pygments_lexer": "ipython3",
   "version": "3.11.7"
  }
 },
 "nbformat": 4,
 "nbformat_minor": 5
}
